{
 "cells": [
  {
   "cell_type": "code",
   "execution_count": 1,
   "metadata": {},
   "outputs": [],
   "source": [
    "# CRIA UMA FUNÇÃO COM UM LOOP QUE SUBTRAI UMA NOTA DO VALOR DADO COMEÇANDO\n",
    "# PELA MAIOR NOTA DAS NOTAS DEFINIDAS  NA LISTA 'NOTAS', ATÉ QUE O VALOR\n",
    "# RESTANTE SEJA 0\n",
    "def contarnotas(notas, x, count, valor):\n",
    "\t\n",
    "\tprint('\\n\\033[7m{:^50}\\033[m'.format('Pegue as notas: '))\n",
    "\tprint(f'\\nR${valor:2.2f} => ', end='')\n",
    "\t\n",
    "\tif valor >= 1: \n",
    "\t\t\n",
    "\t\tfor n in notas:\n",
    "\t\t\t\n",
    "\t\t\twhile valor >= (notas[x]):          \n",
    "\t\t\t\tcount += 1\n",
    "\t\t\t\tvalor -= (notas[x])\n",
    "\t  \n",
    "\t\t\t\tif valor < (notas[x]):\n",
    "\t\t\t\t\tprint('[', end='')\n",
    "\t\t\t\t\tprint(f'{count:0>2} notas de R${(notas[x]):2.2f}', end='')\n",
    "\t\t\t\t\tprint(']', end=' ')\t\t\t\t\t\n",
    "\t\t\t\t\tx += 1\n",
    "\t\t\t\t\tcount = 0 \n",
    "\t\t\t\t\t\n",
    "\t\t\t\tif valor == 0:\n",
    "\t\t\t\t\t\n",
    "\t\t\t\t\tbreak\n",
    "\t\t\telse:\n",
    "\t\t\t\tx += 1\n"
   ]
  },
  {
   "cell_type": "code",
   "execution_count": 2,
   "metadata": {},
   "outputs": [],
   "source": [
    "# LISTA DAS NOTAS DISPONIVEIS E DEFINIÇÕES DAS VARIÁVEIS\n",
    "notas = [100, 50, 20, 10, 5, 2, 1, 0]\n",
    "x = count = valor = 0  "
   ]
  },
  {
   "cell_type": "code",
   "execution_count": 3,
   "metadata": {},
   "outputs": [
    {
     "name": "stdout",
     "output_type": "stream",
     "text": [
      "\u001b[7m               CONTADOR DE CÉDULAS                \u001b[m\n",
      "Este banco tem notas de:\n",
      "\n",
      "\t-R$100.00\n",
      "\t-R$50.00\n",
      "\t-R$20.00\n",
      "\t-R$10.00\n",
      "\t-R$5.00\n",
      "\t-R$2.00\n",
      "\t-R$1.00\n",
      "\n",
      "\n",
      "Quantos Reais você deseja sacar? R$777\n",
      "\n",
      "\u001b[7m                 Pegue as notas:                  \u001b[m\n",
      "\n",
      "R$777.00 => [07 notas de R$100.00] [01 notas de R$50.00] [01 notas de R$20.00] [01 notas de R$5.00] [01 notas de R$2.00] "
     ]
    }
   ],
   "source": [
    "# ENTRADA DO VALOR PELO USUAŔIO\n",
    "print('\\033[7m{:^50}\\033[m'.format('CONTADOR DE CÉDULAS'))\n",
    "\n",
    "\n",
    "print('''Este banco tem notas de:\n",
    "\n",
    "\t-R$100.00\n",
    "\t-R$50.00\n",
    "\t-R$20.00\n",
    "\t-R$10.00\n",
    "\t-R$5.00\n",
    "\t-R$2.00\n",
    "\t-R$1.00\n",
    "''')\n",
    "\n",
    "while True:\n",
    "\t\n",
    "\tentrada = str(input('\\nQuantos Reais você deseja sacar? R$'))\n",
    "\t\n",
    "\tif entrada.isnumeric() and entrada != '0':\n",
    "\t\tvalor = int(entrada)\t\n",
    "\t\tbreak\t\t\t\t\n",
    "\telse:\n",
    "\t\tprint('\\nFavor digitar valor numérico, inteiro e maior ou igual a R$1,00')\n",
    "\t\t\n",
    "\t\n",
    "contarnotas(notas, x, count, valor)\n",
    "  "
   ]
  },
  {
   "cell_type": "code",
   "execution_count": null,
   "metadata": {},
   "outputs": [],
   "source": []
  },
  {
   "cell_type": "code",
   "execution_count": null,
   "metadata": {},
   "outputs": [],
   "source": []
  }
 ],
 "metadata": {
  "kernelspec": {
   "display_name": "Python 3",
   "language": "python",
   "name": "python3"
  },
  "language_info": {
   "codemirror_mode": {
    "name": "ipython",
    "version": 3
   },
   "file_extension": ".py",
   "mimetype": "text/x-python",
   "name": "python",
   "nbconvert_exporter": "python",
   "pygments_lexer": "ipython3",
   "version": "3.7.3"
  }
 },
 "nbformat": 4,
 "nbformat_minor": 2
}
