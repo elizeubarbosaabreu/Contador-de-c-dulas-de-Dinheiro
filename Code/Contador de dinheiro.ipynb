{
 "cells": [
  {
   "cell_type": "code",
   "execution_count": 1,
   "metadata": {},
   "outputs": [],
   "source": [
    "def contarnotas(notas, x, count, valor):\n",
    "\n",
    "    for n in notas: \t\n",
    "\t\t\n",
    "        while valor >= (notas[x]):          \n",
    "            count += 1\n",
    "            valor -= (notas[x])\n",
    "  \n",
    "            if valor < (notas[x]):\n",
    "                print (f'{count} notas de R${(notas[x]):2.2f}')\n",
    "                x += 1\n",
    "                count = 0                       \n",
    "        else:\n",
    "            x += 1\n",
    "            "
   ]
  },
  {
   "cell_type": "code",
   "execution_count": 2,
   "metadata": {},
   "outputs": [],
   "source": [
    "# LISTA DAS NOTAS DISPONIVEIS E DEFINI\u00c7\u00d5ES DAS VARI\u00c1VEIS\n",
    "notas = [100, 50, 20, 10, 5, 2, 1, 0]\n",
    "x = count = valor = 0   "
   ]
  },
  {
   "cell_type": "code",
   "execution_count": 3,
   "metadata": {},
   "outputs": [
    {
     "name": "stdout",
     "output_type": "stream",
     "text": [
      "\u001b[7m               CONTADOR DE C\u00c9DULAS                \u001b[m\n",
      "\n",
      "Este banco tem notas de:\n",
      "    -R$100.00\n",
      "    -R$50.00\n",
      "    -R$20.00\n",
      "    -R$10.00\n",
      "    -R$5.00\n",
      "    -R$2.00\n",
      "    -R$1.00\n",
      "Quantos Reais voc\u00ea deseja sacar?\n",
      "    >>>>>>> R$121\n",
      "1 notas de R$100.00\n",
      "1 notas de R$20.00\n",
      "Bye\n"
     ]
    }
   ],
   "source": [
    "# ENTRADA DO VALOR PELO USUA\u0154IO\n",
    "print('\\033[7m{:^50}\\033[m'.format('CONTADOR DE C\u00c9DULAS'))\n",
    "\n",
    "while True:\n",
    "\tentrada = str(input('''\n",
    "Este banco tem notas de:\n",
    "\t-R$100.00\n",
    "\t-R$50.00\n",
    "\t-R$20.00\n",
    "\t-R$10.00\n",
    "\t-R$5.00\n",
    "\t-R$2.00\n",
    "\t-R$1.00\n",
    ">>>>>>> Quando quiser sair Tecle [ctrl]+[c] \n",
    "Quantos Reais voc\u00ea deseja sacar? >>>>>>> R$'''))\n",
    "\tif entrada.isnumeric():\n",
    "\t\tvalor = int(entrada)\t\n",
    "\t\tbreak\t\t\t\t\n",
    "\telse:\n",
    "\t\tprint(\"S\u00f3 vale usar n\u00fameros:\")\n",
    "\t\t\n",
    "\t\n",
    "contarnotas(notas, x, count, valor)\n"
   ]
  },
  {
   "cell_type": "code",
   "execution_count": null,
   "metadata": {},
   "outputs": [],
   "source": []
  },
  {
   "cell_type": "code",
   "execution_count": null,
   "metadata": {},
   "outputs": [],
   "source": []
  }
 ],
 "metadata": {
  "kernelspec": {
   "display_name": "Python 3",
   "language": "python",
   "name": "python3"
  },
  "language_info": {
   "codemirror_mode": {
    "name": "ipython",
    "version": 3
   },
   "file_extension": ".py",
   "mimetype": "text/x-python",
   "name": "python",
   "nbconvert_exporter": "python",
   "pygments_lexer": "ipython3",
   "version": "3.7.3"
  }
 },
 "nbformat": 4,
 "nbformat_minor": 2
}
