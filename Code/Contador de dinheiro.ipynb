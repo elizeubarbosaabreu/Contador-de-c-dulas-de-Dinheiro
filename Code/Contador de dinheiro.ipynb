{
 "cells": [
  {
   "cell_type": "code",
   "execution_count": 1,
   "metadata": {},
   "outputs": [],
   "source": [
    "def contarnotas(notas, x, count, valor):\n",
    "\n",
    "    for n in notas:         \n",
    "\n",
    "        if valor >= (notas[x]):          \n",
    "            count += 1\n",
    "\n",
    "            if valor >= 0:\n",
    "                valor -= (notas[x])\n",
    "\n",
    "            if valor < (notas[x]):\n",
    "                print (f'{count} notas de R${(notas[x]):2.2f}')\n",
    "                x += 1\n",
    "                count = 0\n",
    "\n",
    "            \n",
    "        else:\n",
    "            x += 1\n"
   ]
  },
  {
   "cell_type": "code",
   "execution_count": 2,
   "metadata": {},
   "outputs": [],
   "source": [
    "# lista das notas disponiveis\n",
    "notas = [100, 50, 20, 10, 5, 2, 1]\n",
    "x = count = 0"
   ]
  },
  {
   "cell_type": "code",
   "execution_count": 3,
   "metadata": {},
   "outputs": [
    {
     "name": "stdout",
     "output_type": "stream",
     "text": [
      "\u001b[7m               CONTADOR DE CÉDULAS                \u001b[m\n",
      "\n",
      "Este banco tem notas de:\n",
      "    -R$100.00\n",
      "    -R$50.00\n",
      "    -R$20.00\n",
      "    -R$10.00\n",
      "    -R$5.00\n",
      "    -R$2.00\n",
      "    -R$1.00\n",
      "Quantos Reais você deseja sacar?\n",
      "    >>>>>>> R$121\n",
      "1 notas de R$100.00\n",
      "1 notas de R$20.00\n",
      "Bye\n"
     ]
    }
   ],
   "source": [
    "\n",
    "# Entrada dao dinheiro a trocar\n",
    "print('\\033[7m{:^50}\\033[m'.format('CONTADOR DE CÉDULAS'))\n",
    "\n",
    "entrada = str(input('''\n",
    "Este banco tem notas de:\n",
    "    -R$100.00\n",
    "    -R$50.00\n",
    "    -R$20.00\n",
    "    -R$10.00\n",
    "    -R$5.00\n",
    "    -R$2.00\n",
    "    -R$1.00\n",
    "Quantos Reais você deseja sacar?\n",
    "    >>>>>>> R$'''))\n",
    "if entrada.isnumeric():\n",
    "    valor = int(entrada)\n",
    "else:\n",
    "    print(\"Só vale usar números:\")   \n",
    "\n",
    "\n",
    "contarnotas(notas, x, count, valor)\n",
    "print(\"Bye\")\n",
    "    \n",
    "            \n",
    "\n",
    "       \n",
    "           "
   ]
  },
  {
   "cell_type": "code",
   "execution_count": null,
   "metadata": {},
   "outputs": [],
   "source": []
  },
  {
   "cell_type": "code",
   "execution_count": null,
   "metadata": {},
   "outputs": [],
   "source": []
  }
 ],
 "metadata": {
  "kernelspec": {
   "display_name": "Python 3",
   "language": "python",
   "name": "python3"
  },
  "language_info": {
   "codemirror_mode": {
    "name": "ipython",
    "version": 3
   },
   "file_extension": ".py",
   "mimetype": "text/x-python",
   "name": "python",
   "nbconvert_exporter": "python",
   "pygments_lexer": "ipython3",
   "version": "3.7.3"
  }
 },
 "nbformat": 4,
 "nbformat_minor": 2
}
