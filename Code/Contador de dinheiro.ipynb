{
 "cells": [
  {
   "cell_type": "code",
   "execution_count": 1,
   "metadata": {},
   "outputs": [],
   "source": [
    "def contarnotas(notas, x, count, valor):\n",
    "\n",
    "    for n in notas: \t\n",
    "\t\t\n",
    "        while valor >= (notas[x]):          \n",
    "            count += 1\n",
    "            valor -= (notas[x])\n",
    "  \n",
    "            if valor < (notas[x]):\n",
    "                print (f'{count} notas de R${(notas[x]):2.2f}')\n",
    "                x += 1\n",
    "                count = 0                       \n",
    "        else:\n",
    "            x += 1\n",
    "            "
   ]
  },
  {
   "cell_type": "code",
   "execution_count": 2,
   "metadata": {},
   "outputs": [],
   "source": [
    "# LISTA DAS NOTAS DISPONIVEIS E DEFINIÇÕES DAS VARIÁVEIS\n",
    "notas = [100, 50, 20, 10, 5, 2, 1, 0]\n",
    "x = count = valor = 0   "
   ]
  },
  {
   "cell_type": "code",
   "execution_count": 3,
   "metadata": {},
   "outputs": [
    {
     "name": "stdout",
     "output_type": "stream",
     "text": [
      "\u001b[7m               CONTADOR DE CÉDULAS                \u001b[m\n",
      "\n",
      "Este banco tem notas de:\n",
      "\t-R$100.00\n",
      "\t-R$50.00\n",
      "\t-R$20.00\n",
      "\t-R$10.00\n",
      "\t-R$5.00\n",
      "\t-R$2.00\n",
      "\t-R$1.00\n",
      ">>>>>>> Quando quiser sair Tecle [ctrl]+[c] \n",
      "Quantos Reais você deseja sacar? >>>>>>> R$125\n",
      "1 notas de R$100.00\n",
      "1 notas de R$20.00\n",
      "1 notas de R$5.00\n"
     ]
    },
    {
     "ename": "KeyboardInterrupt",
     "evalue": "",
     "output_type": "error",
     "traceback": [
      "\u001b[0;31m---------------------------------------------------------------------------\u001b[0m",
      "\u001b[0;31mKeyboardInterrupt\u001b[0m                         Traceback (most recent call last)",
      "\u001b[0;32m<ipython-input-3-2fc52c2b09cc>\u001b[0m in \u001b[0;36m<module>\u001b[0;34m()\u001b[0m\n\u001b[1;32m     21\u001b[0m \u001b[0;34m\u001b[0m\u001b[0m\n\u001b[1;32m     22\u001b[0m \u001b[0;34m\u001b[0m\u001b[0m\n\u001b[0;32m---> 23\u001b[0;31m \u001b[0mcontarnotas\u001b[0m\u001b[0;34m(\u001b[0m\u001b[0mnotas\u001b[0m\u001b[0;34m,\u001b[0m \u001b[0mx\u001b[0m\u001b[0;34m,\u001b[0m \u001b[0mcount\u001b[0m\u001b[0;34m,\u001b[0m \u001b[0mvalor\u001b[0m\u001b[0;34m)\u001b[0m\u001b[0;34m\u001b[0m\u001b[0;34m\u001b[0m\u001b[0m\n\u001b[0m",
      "\u001b[0;32m<ipython-input-1-4d74637e933e>\u001b[0m in \u001b[0;36mcontarnotas\u001b[0;34m(notas, x, count, valor)\u001b[0m\n\u001b[1;32m      5\u001b[0m         \u001b[0;32mwhile\u001b[0m \u001b[0mvalor\u001b[0m \u001b[0;34m>=\u001b[0m \u001b[0;34m(\u001b[0m\u001b[0mnotas\u001b[0m\u001b[0;34m[\u001b[0m\u001b[0mx\u001b[0m\u001b[0;34m]\u001b[0m\u001b[0;34m)\u001b[0m\u001b[0;34m:\u001b[0m\u001b[0;34m\u001b[0m\u001b[0;34m\u001b[0m\u001b[0m\n\u001b[1;32m      6\u001b[0m             \u001b[0mcount\u001b[0m \u001b[0;34m+=\u001b[0m \u001b[0;36m1\u001b[0m\u001b[0;34m\u001b[0m\u001b[0;34m\u001b[0m\u001b[0m\n\u001b[0;32m----> 7\u001b[0;31m             \u001b[0mvalor\u001b[0m \u001b[0;34m-=\u001b[0m \u001b[0;34m(\u001b[0m\u001b[0mnotas\u001b[0m\u001b[0;34m[\u001b[0m\u001b[0mx\u001b[0m\u001b[0;34m]\u001b[0m\u001b[0;34m)\u001b[0m\u001b[0;34m\u001b[0m\u001b[0;34m\u001b[0m\u001b[0m\n\u001b[0m\u001b[1;32m      8\u001b[0m \u001b[0;34m\u001b[0m\u001b[0m\n\u001b[1;32m      9\u001b[0m             \u001b[0;32mif\u001b[0m \u001b[0mvalor\u001b[0m \u001b[0;34m<\u001b[0m \u001b[0;34m(\u001b[0m\u001b[0mnotas\u001b[0m\u001b[0;34m[\u001b[0m\u001b[0mx\u001b[0m\u001b[0;34m]\u001b[0m\u001b[0;34m)\u001b[0m\u001b[0;34m:\u001b[0m\u001b[0;34m\u001b[0m\u001b[0;34m\u001b[0m\u001b[0m\n",
      "\u001b[0;31mKeyboardInterrupt\u001b[0m: "
     ]
    }
   ],
   "source": [
    "# ENTRADA DO VALOR PELO USUAŔIO\n",
    "print('\\033[7m{:^50}\\033[m'.format('CONTADOR DE CÉDULAS'))\n",
    "\n",
    "while True:\n",
    "\tentrada = str(input('''\n",
    "Este banco tem notas de:\n",
    "\t-R$100.00\n",
    "\t-R$50.00\n",
    "\t-R$20.00\n",
    "\t-R$10.00\n",
    "\t-R$5.00\n",
    "\t-R$2.00\n",
    "\t-R$1.00\n",
    ">>>>>>> Quando quiser sair Tecle [ctrl]+[c] \n",
    "Quantos Reais você deseja sacar? >>>>>>> R$'''))\n",
    "\tif entrada.isnumeric():\n",
    "\t\tvalor = int(entrada)\t\n",
    "\t\tbreak\t\t\t\t\n",
    "\telse:\n",
    "\t\tprint(\"Só vale usar números:\")\n",
    "\t\t\n",
    "\t\n",
    "contarnotas(notas, x, count, valor)\n"
   ]
  },
  {
   "cell_type": "code",
   "execution_count": null,
   "metadata": {},
   "outputs": [],
   "source": []
  },
  {
   "cell_type": "code",
   "execution_count": null,
   "metadata": {},
   "outputs": [],
   "source": []
  }
 ],
 "metadata": {
  "kernelspec": {
   "display_name": "Python 3",
   "language": "python",
   "name": "python3"
  },
  "language_info": {
   "codemirror_mode": {
    "name": "ipython",
    "version": 3
   },
   "file_extension": ".py",
   "mimetype": "text/x-python",
   "name": "python",
   "nbconvert_exporter": "python",
   "pygments_lexer": "ipython3",
   "version": "3.7.3"
  }
 },
 "nbformat": 4,
 "nbformat_minor": 2
}
